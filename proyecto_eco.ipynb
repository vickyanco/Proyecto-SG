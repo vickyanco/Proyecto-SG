{
  "nbformat": 4,
  "nbformat_minor": 0,
  "metadata": {
    "colab": {
      "name": "proyecto_eco.ipynb",
      "provenance": [],
      "include_colab_link": true
    },
    "kernelspec": {
      "name": "python3",
      "display_name": "Python 3"
    }
  },
  "cells": [
    {
      "cell_type": "markdown",
      "metadata": {
        "id": "view-in-github",
        "colab_type": "text"
      },
      "source": [
        "<a href=\"https://colab.research.google.com/github/vickyanco/Proyecto-SG/blob/master/proyecto_eco.ipynb\" target=\"_parent\"><img src=\"https://colab.research.google.com/assets/colab-badge.svg\" alt=\"Open In Colab\"/></a>"
      ]
    },
    {
      "cell_type": "markdown",
      "metadata": {
        "id": "ZIKEHR656P3Z",
        "colab_type": "text"
      },
      "source": [
        "#Ejemplo para empezar con Github y colab\n"
      ]
    },
    {
      "cell_type": "markdown",
      "metadata": {
        "id": "CjTm9EtZ6LSH",
        "colab_type": "text"
      },
      "source": [
        "Proceso\n",
        "1.   cargar sensores\n",
        "2.   mostrar señales y registrar\n",
        "\n"
      ]
    },
    {
      "cell_type": "markdown",
      "metadata": {
        "id": "12mDjI5n6cox",
        "colab_type": "text"
      },
      "source": [
        "##Librerias"
      ]
    },
    {
      "cell_type": "code",
      "metadata": {
        "id": "mANxon816h5D",
        "colab_type": "code",
        "colab": {}
      },
      "source": [
        "import time \n",
        "from IPython.display import Image"
      ],
      "execution_count": 0,
      "outputs": []
    },
    {
      "cell_type": "markdown",
      "metadata": {
        "id": "mkLVJWiJK-XL",
        "colab_type": "text"
      },
      "source": [
        " https://user-images.githubusercontent.com/66627190/84036944-4a88c800-a974-11ea-97fc-e9a0aae4ce2e.jpg\n"
      ]
    },
    {
      "cell_type": "markdown",
      "metadata": {
        "id": "0tCTTG2s6qhI",
        "colab_type": "text"
      },
      "source": [
        "## Funciones"
      ]
    },
    {
      "cell_type": "code",
      "metadata": {
        "id": "ighQXP9a6tYS",
        "colab_type": "code",
        "colab": {}
      },
      "source": [
        "def programa_principal():\n",
        "  '''carga los sensores y devuelve True si esta todo Ok'''\n",
        "  registrar_valores = False # para avisar si puede procesar datos\n",
        "\n",
        "  print(\"chequeando los sensores\")\n",
        "\n",
        "  for i in range(0,11):\n",
        "  #print(i)\n",
        "    time.sleep(1)\n",
        "    print(str(i/10 *100)+\" % \" )\n",
        "\n",
        "  if i == 10:\n",
        "    print(\"listo para registrar\")\n",
        "    registrar_valores = True\n",
        "\n",
        "  return registrar_valores"
      ],
      "execution_count": 0,
      "outputs": []
    },
    {
      "cell_type": "markdown",
      "metadata": {
        "id": "yfScmIWE67cU",
        "colab_type": "text"
      },
      "source": [
        "## Programa Principal"
      ]
    },
    {
      "cell_type": "code",
      "metadata": {
        "id": "Qd1PPU3p7A5W",
        "colab_type": "code",
        "outputId": "e378b492-58bd-4487-fbb7-2e53d76c31de",
        "colab": {
          "base_uri": "https://localhost:8080/",
          "height": 231
        }
      },
      "source": [
        "respuesta = programa_principal()\n",
        "\n",
        "if  respuesta == True: \n",
        "  print(\"Visualizando y Registrando\")\n",
        "\n",
        "else:\n",
        "   print(\"visualizando pero NO! está registrando\")\n",
        "  \n",
        "Image('https://thumbs.gfycat.com/VerifiableWealthyAmericanratsnake.webp', format='png')"
      ],
      "execution_count": 2,
      "outputs": [
        {
          "output_type": "error",
          "ename": "NameError",
          "evalue": "ignored",
          "traceback": [
            "\u001b[0;31m---------------------------------------------------------------------------\u001b[0m",
            "\u001b[0;31mNameError\u001b[0m                                 Traceback (most recent call last)",
            "\u001b[0;32m<ipython-input-2-3e55f40aaa32>\u001b[0m in \u001b[0;36m<module>\u001b[0;34m()\u001b[0m\n\u001b[0;32m----> 1\u001b[0;31m \u001b[0mrespuesta\u001b[0m \u001b[0;34m=\u001b[0m \u001b[0mprograma_principal\u001b[0m\u001b[0;34m(\u001b[0m\u001b[0;36m1\u001b[0m\u001b[0;34m)\u001b[0m\u001b[0;34m\u001b[0m\u001b[0;34m\u001b[0m\u001b[0m\n\u001b[0m\u001b[1;32m      2\u001b[0m \u001b[0;34m\u001b[0m\u001b[0m\n\u001b[1;32m      3\u001b[0m \u001b[0;32mif\u001b[0m  \u001b[0mrespuesta\u001b[0m \u001b[0;34m==\u001b[0m \u001b[0;32mTrue\u001b[0m\u001b[0;34m:\u001b[0m\u001b[0;34m\u001b[0m\u001b[0;34m\u001b[0m\u001b[0m\n\u001b[1;32m      4\u001b[0m   \u001b[0mprint\u001b[0m\u001b[0;34m(\u001b[0m\u001b[0;34m\"Visualizando y Registrando\"\u001b[0m\u001b[0;34m)\u001b[0m\u001b[0;34m\u001b[0m\u001b[0;34m\u001b[0m\u001b[0m\n\u001b[1;32m      5\u001b[0m \u001b[0;34m\u001b[0m\u001b[0m\n",
            "\u001b[0;31mNameError\u001b[0m: name 'programa_principal' is not defined"
          ]
        }
      ]
    }
  ]
}